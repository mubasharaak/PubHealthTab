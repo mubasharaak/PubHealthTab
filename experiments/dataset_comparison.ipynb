{
 "cells": [
  {
   "cell_type": "markdown",
   "id": "c490ebc8",
   "metadata": {},
   "source": [
    "#### Importing packages"
   ]
  },
  {
   "cell_type": "code",
   "execution_count": null,
   "id": "4f308373",
   "metadata": {},
   "outputs": [],
   "source": [
    "# Imports\n",
    "import csv \n",
    "import json \n",
    "import jsonlines\n",
    "import os\n",
    "import pandas as pd\n",
    "import re\n",
    "import spacy\n",
    "import string\n",
    "import zipfile\n",
    "\n",
    "from collections import Counter\n",
    "from nltk import word_tokenize\n",
    "from nltk.corpus import stopwords\n",
    "from statistics import median, stdev\n"
   ]
  },
  {
   "cell_type": "markdown",
   "id": "2dba37ea",
   "metadata": {},
   "source": [
    "## Overview"
   ]
  },
  {
   "cell_type": "markdown",
   "id": "13b68649",
   "metadata": {},
   "source": [
    "1. <strong>Load the following datasets: PubHealthTab, InfoTabs, TabFact and FEVEROUS </strong>\n",
    "\n",
    "\n",
    "2. <strong>Execute code below to compare datasets. </strong>\n",
    "\n",
    "Set the following variables first:\n",
    "\n"
   ]
  },
  {
   "cell_type": "code",
   "execution_count": null,
   "id": "5838e98c",
   "metadata": {},
   "outputs": [],
   "source": [
    "# path to pubhealthtab dataset\n",
    "path_pubhealthtab = ''\n",
    "\n",
    "# path to TabFact tables and claims extracted from TabFact Github repo (https://github.com/wenhuchen/Table-Fact-Checking)\n",
    "path_tabfact_tables = '' \n",
    "path_tabfact_claims = ''\n",
    "\n",
    "# path to Infotabs datasetextracted from Github repo (https://github.com/infotabs/infotabs)\n",
    "path_infotabs_tables = ''\n",
    "path_infotabs_claims = ''\n",
    "\n",
    "# extract tables from Wikipedia dump used for feverous claims (https://github.com/Raldir/FEVEROUS)\n",
    "path_feverous_tables = '' \n"
   ]
  },
  {
   "cell_type": "markdown",
   "id": "0946ff33",
   "metadata": {},
   "source": [
    "--------------"
   ]
  },
  {
   "cell_type": "markdown",
   "id": "cdd0fc41",
   "metadata": {},
   "source": [
    "#### Load PubHealthTab Dataset"
   ]
  },
  {
   "cell_type": "code",
   "execution_count": null,
   "id": "f71f709d",
   "metadata": {},
   "outputs": [],
   "source": [
    "# Load dataset\n",
    "\n",
    "dataset = []\n",
    "with jsonlines.open(path_pubhealthtab) as reader:\n",
    "    for line in reader: \n",
    "        dataset.append(line)\n",
    "    "
   ]
  },
  {
   "cell_type": "code",
   "execution_count": null,
   "id": "e6b5982c",
   "metadata": {},
   "outputs": [],
   "source": [
    "dataset_df = pd.DataFrame(dataset)\n",
    "dataset_df.head()"
   ]
  },
  {
   "cell_type": "markdown",
   "id": "ca92150d",
   "metadata": {},
   "source": [
    "Number of veracity labels"
   ]
  },
  {
   "cell_type": "code",
   "execution_count": null,
   "id": "76188466",
   "metadata": {},
   "outputs": [],
   "source": [
    "Counter(dataset_df[\"label\"])"
   ]
  },
  {
   "cell_type": "markdown",
   "id": "448e9fda",
   "metadata": {},
   "source": [
    "Number of tables (general and unique)"
   ]
  },
  {
   "cell_type": "code",
   "execution_count": null,
   "id": "9f5d1f37",
   "metadata": {},
   "outputs": [],
   "source": [
    "rows = []\n",
    "for table in dataset_df[\"table\"]:\n",
    "    if not table[\"rows\"] in rows:\n",
    "        rows.append(table[\"rows\"])\n",
    "\n",
    "len(rows)\n"
   ]
  },
  {
   "cell_type": "code",
   "execution_count": null,
   "id": "2546460a",
   "metadata": {},
   "outputs": [],
   "source": [
    "table_html = [entry[\"website\"] for entry in dataset_df[\"table\"]]\n",
    "table_html_unique = list(set(table_html))\n",
    "\n",
    "print(len(table_html))\n",
    "print(len(table_html_unique))\n"
   ]
  },
  {
   "cell_type": "markdown",
   "id": "b508bfd7",
   "metadata": {},
   "source": [
    "Number of websites (general and unique) "
   ]
  },
  {
   "cell_type": "markdown",
   "id": "c1d35441",
   "metadata": {},
   "source": [
    "#### TabFact data"
   ]
  },
  {
   "cell_type": "code",
   "execution_count": null,
   "id": "8dcdfe3b",
   "metadata": {},
   "outputs": [],
   "source": [
    "tabfact_dataset = []\n",
    "\n",
    "for filename in os.listdir(path_tabfact_tables):\n",
    "    f = os.path.join(directory, filename)\n",
    "    \n",
    "    with open(f, 'r') as read_obj:\n",
    "        # pass the file object to reader() to get the reader object\n",
    "        csv_reader = csv.reader(read_obj)\n",
    "        # Pass reader object to list() to get a list of lists\n",
    "        list_of_rows = list(csv_reader)\n",
    "        table_data = []\n",
    "        for l in list_of_rows: \n",
    "            table_data.append(l[0].split(\"#\"))\n",
    "            \n",
    "        tabfact_dataset.append(table_data)\n",
    "    "
   ]
  },
  {
   "cell_type": "code",
   "execution_count": null,
   "id": "0124db6d",
   "metadata": {
    "scrolled": true
   },
   "outputs": [],
   "source": [
    "tabfact_dataset[0]"
   ]
  },
  {
   "cell_type": "code",
   "execution_count": null,
   "id": "4ec91984",
   "metadata": {},
   "outputs": [],
   "source": [
    "tabfact_claims = []\n",
    "    \n",
    "with open(path_tabfact_tables, 'r') as file:\n",
    "    data = json.load(file)\n",
    "    "
   ]
  },
  {
   "cell_type": "code",
   "execution_count": null,
   "id": "169960fe",
   "metadata": {
    "scrolled": false
   },
   "outputs": [],
   "source": [
    "list(data.values())[0][0]"
   ]
  },
  {
   "cell_type": "code",
   "execution_count": null,
   "id": "3f1ee753",
   "metadata": {},
   "outputs": [],
   "source": [
    "tabfact_claims = [claim for entry in list(data.values()) for claim in entry[0]]\n",
    "len(tabfact_claims)"
   ]
  },
  {
   "cell_type": "markdown",
   "id": "30c5b722",
   "metadata": {},
   "source": [
    "#### InfoTabs Data"
   ]
  },
  {
   "cell_type": "code",
   "execution_count": null,
   "id": "7b783418",
   "metadata": {},
   "outputs": [],
   "source": [
    "infotabs_claims = []\n",
    "counter = 0 \n",
    "\n",
    "for filename in os.listdir(path_infotabs_claims):\n",
    "    f = os.path.join(directory, filename)\n",
    "    \n",
    "    with open(f, 'r') as read_obj:\n",
    "        # pass the file object to reader() to get the reader object\n",
    "        csv_reader = csv.reader(read_obj, delimiter=\"\\t\")\n",
    "        # Pass reader object to list() to get a list of lists\n",
    "        list_of_rows = list(csv_reader)\n",
    "        for l in list_of_rows: \n",
    "            if counter == 0: \n",
    "                counter = 1\n",
    "                continue\n",
    "            infotabs_claims.append(l[2])\n"
   ]
  },
  {
   "cell_type": "code",
   "execution_count": null,
   "id": "45163a11",
   "metadata": {},
   "outputs": [],
   "source": [
    "infotabs_tables = []\n",
    "\n",
    "for filename in os.listdir(path_infotabs_tables):\n",
    "    f = os.path.join(directory, filename)\n",
    "    with open(f, 'r') as file:\n",
    "        t = json.load(file)\n",
    "        infotabs_tables.append(t)\n",
    "\n",
    "# infotabs_tables"
   ]
  },
  {
   "cell_type": "code",
   "execution_count": null,
   "id": "3e1c4abb",
   "metadata": {},
   "outputs": [],
   "source": [
    "len(infotabs_tables)"
   ]
  },
  {
   "cell_type": "code",
   "execution_count": null,
   "id": "083c7f62",
   "metadata": {},
   "outputs": [],
   "source": [
    "# Number of tables \n",
    "\n",
    "print(len(dataset))\n",
    "print(len(tabfact_dataset))\n",
    "print(len(infotabs_tables))"
   ]
  },
  {
   "cell_type": "code",
   "execution_count": null,
   "id": "46ee9bc1",
   "metadata": {},
   "outputs": [],
   "source": [
    "# Number of tables with captions\n",
    "# MY DATASET\n",
    "\n",
    "caption_ds = [1 for entry in dataset if entry[\"table\"][\"caption\"] and entry[\"table\"][\"caption\"].strip()!=\"\"]\n",
    "print(sum(caption_ds)) # number of tables with caption in our dataset\n",
    "\n",
    "print(round(sum(caption_ds)/len(dataset), 3)) # ration of tables in our dataset with captions"
   ]
  },
  {
   "cell_type": "code",
   "execution_count": null,
   "id": "7c15206b",
   "metadata": {},
   "outputs": [],
   "source": [
    "# Number of tables with captions\n",
    "# INFOTABS\n",
    "\n",
    "caption_ds = [1 for entry in infotabs_tables if \"title\" in entry.keys()]\n",
    "print(sum(caption_ds)) # number of tables with caption in our dataset\n",
    "\n",
    "print(round(sum(caption_ds)/len(infotabs_tables), 3)) # ration of tables in our dataset with captions\n"
   ]
  },
  {
   "cell_type": "code",
   "execution_count": null,
   "id": "c8b2b45e",
   "metadata": {},
   "outputs": [],
   "source": [
    "# Number of tables with headers \n",
    "# MY DATASET\n",
    "\n",
    "header_ds = [1 for entry in dataset if (entry[\"table\"][\"header_horizontal\"] and entry[\"table\"][\"header_horizontal\"]!=[]) or \n",
    "             (entry[\"table\"][\"header_vertical\"] and entry[\"table\"][\"header_vertical\"].strip()!=[])]\n",
    "\n",
    "print(sum(header_ds)) # number of tables with caption in our dataset\n",
    "\n",
    "print(round(sum(header_ds)/len(dataset), 3)) # ration of tables in our dataset with captions\n"
   ]
  },
  {
   "cell_type": "code",
   "execution_count": null,
   "id": "b0716452",
   "metadata": {},
   "outputs": [],
   "source": [
    "# Number of tables with headers \n",
    "# INFOTABS\n",
    "\n",
    "header_ds = []\n",
    "for entry in infotabs_tables: \n",
    "    len_keys = len([k for k in entry.keys() if k.strip()!=\"\"])\n",
    "    if len_keys == len(entry):\n",
    "        header_ds.append(1)\n",
    "    \n",
    "print(sum(header_ds)) # number of tables with caption in our dataset\n",
    "\n",
    "print(round(sum(header_ds)/len(infotabs_tables), 3)) # ration of tables in our dataset with captions\n"
   ]
  },
  {
   "cell_type": "code",
   "execution_count": null,
   "id": "12e0435a",
   "metadata": {},
   "outputs": [],
   "source": [
    "# Table row counts \n",
    "# MY DATASET\n",
    "\n",
    "# Ratio of tables with < 5 rows \n",
    "count_ds = [1 for entry in dataset if len(entry[\"table\"][\"rows\"])<5]\n",
    "print(round(sum(count_ds)/len(dataset), 3)) # ration of tables in our dataset with captions\n",
    "\n",
    "count_tabfact = [1 for entry in tabfact_dataset if len(entry)<6] # first row is header \n",
    "print(round(sum(count_tabfact)/len(tabfact_dataset), 3)) # ration of tables in our dataset with captions\n",
    "\n",
    "# Ratio of tables with >= 5 rows and < 10 rows \n",
    "count_ds = [1 for entry in dataset if (len(entry[\"table\"][\"rows\"])>4 and len(entry[\"table\"][\"rows\"])<10)]\n",
    "print(round(sum(count_ds)/len(dataset), 3)) # ration of tables in our dataset with captions\n",
    "\n",
    "count_tabfact = [1 for entry in tabfact_dataset if len(entry)>5 and len(entry)<11] # first row is header \n",
    "print(round(sum(count_tabfact)/len(tabfact_dataset), 3)) # ration of tables in our dataset with captions\n",
    "\n",
    "# Ratio of tables with >= 10 rows \n",
    "count_ds = [1 for entry in dataset if len(entry[\"table\"][\"rows\"])>9]\n",
    "print(round(sum(count_ds)/len(dataset), 3)) # ration of tables in our dataset with captions\n",
    "\n",
    "count_tabfact = [1 for entry in tabfact_dataset if len(entry)>10] # first row is header \n",
    "print(round(sum(count_tabfact)/len(tabfact_dataset), 3)) # ration of tables in our dataset with captions\n"
   ]
  },
  {
   "cell_type": "code",
   "execution_count": null,
   "id": "202811d4",
   "metadata": {},
   "outputs": [],
   "source": [
    "# Table row counts \n",
    "# INFOTABS\n",
    "\n",
    "# Ratio of tables with < 5 rows \n",
    "count_info = [1 for entry in infotabs_tables if (len(entry)-1)<5] # minus 1 because first entry is title \n",
    "print(round(sum(count_info)/len(infotabs_tables), 3)) # ration of tables in our dataset with captions\n",
    "\n",
    "# Ratio of tables with >= 5 rows and < 10 rows \n",
    "count_info = [1 for entry in infotabs_tables if (len(entry)>5 and len(entry)<11)] # considering first entry is title \n",
    "print(round(sum(count_info)/len(infotabs_tables), 3)) # ration of tables in our dataset with captions\n",
    "\n",
    "# Ratio of tables with >= 10 rows \n",
    "count_info = [1 for entry in infotabs_tables if len(entry)>10] # considering first entry is title \n",
    "print(round(sum(count_info)/len(infotabs_tables), 3)) # ration of tables in our dataset with captions\n"
   ]
  },
  {
   "cell_type": "code",
   "execution_count": null,
   "id": "f72a8327",
   "metadata": {},
   "outputs": [],
   "source": [
    "# Table column counts \n",
    "\n",
    "def get_col_len(rows: list): \n",
    "    col_len = 0\n",
    "    for r in rows: \n",
    "        if len(r)>col_len:\n",
    "            col_len = len(r)\n",
    "    return col_len\n",
    "\n",
    "# Ratio of tables with =< 5 columns \n",
    "# MY DATASET\n",
    "\n",
    "count_ds = [1 for entry in dataset if get_col_len(entry[\"table\"][\"rows\"])<6]\n",
    "print(round(sum(count_ds)/len(dataset), 3)) # ration of tables in our dataset with captions\n",
    "\n",
    "count_tabfact = [1 for entry in tabfact_dataset if len(entry[0])<6]\n",
    "print(round(sum(count_tabfact)/len(tabfact_dataset), 3)) # ration of tables in our dataset with captions\n"
   ]
  },
  {
   "cell_type": "code",
   "execution_count": null,
   "id": "955d194d",
   "metadata": {},
   "outputs": [],
   "source": [
    "# Avg cell len \n",
    "\n",
    "# MY DATASET\n",
    "# Ratio of tables with =< 5 columns \n",
    "len_cells = []\n",
    "count_num_cells = 0\n",
    "count_non_alpha = 0\n",
    "\n",
    "for entry in dataset: \n",
    "    l = [len(cell.strip()) for row in entry[\"table\"][\"rows\"] for cell in row]    \n",
    "    len_cells.extend(l)\n",
    "    \n",
    "    count_num_cells += len([1 for row in entry[\"table\"][\"rows\"] for cell in row if re.findall(r'\\d+', cell)!=[]])\n",
    "    count_non_alpha += len([1 for row in entry[\"table\"][\"rows\"] for cell in row if \n",
    "                            [x for x in re.findall(r'\\W+', cell) if x.strip()!=\"\"]!=[] or re.findall(r'\\d+', cell)!=[]])\n",
    "    \n",
    "        \n",
    "print(sum(len_cells)/len(len_cells)) # avg length of cells\n",
    "print(round(count_num_cells/len(len_cells), 3)) # ratio of cells with numerical values\n",
    "print(round(1-count_non_alpha/len(len_cells), 3)) # ratio of cells with only alphabetical characters\n",
    "\n",
    "len_cells = []\n",
    "count_num_cells = 0\n",
    "count_non_alpha = 0\n",
    "\n",
    "# TABFACT\n",
    "for entry in tabfact_dataset: \n",
    "    l = [len(cell.strip()) for row in entry for cell in row]\n",
    "    len_cells.extend(l)\n",
    "    count_num_cells += len([1 for row in entry for cell in row if re.findall(r'\\d+', cell)!=[]])\n",
    "    count_non_alpha += len([1 for row in entry for cell in row if \n",
    "                            [x for x in re.findall(r'\\W+', cell) if x.strip()!=\"\"]!=[] or re.findall(r'\\d+', cell)!=[]])\n",
    "    \n",
    "print(sum(len_cells)/len(len_cells)) # avg length of cells\n",
    "print(round(count_num_cells/len(len_cells), 3)) # ratio of cells with numerical values\n",
    "print(round(1-count_non_alpha/len(len_cells), 3)) # ratio of cells with only alphabetical characters\n",
    "\n"
   ]
  },
  {
   "cell_type": "code",
   "execution_count": null,
   "id": "a9e33948",
   "metadata": {},
   "outputs": [],
   "source": [
    "list(infotabs_tables[0].values())"
   ]
  },
  {
   "cell_type": "code",
   "execution_count": null,
   "id": "125d9b1c",
   "metadata": {},
   "outputs": [],
   "source": [
    "# INFOTABS\n",
    "\n",
    "len_cells = []\n",
    "count_num_cells = 0\n",
    "count_non_alpha = 0\n",
    "\n",
    "for entry in infotabs_tables: \n",
    "    l = [len(row[0].strip()) for row in list(entry.values())]\n",
    "    len_cells.extend(l)\n",
    "    count_num_cells += len([1 for row in entry.values() if re.findall(r'\\d+', row[0])!=[]])\n",
    "    count_non_alpha += len([1 for row in entry.values() if \n",
    "                            [x for x in re.findall(r'\\W+', row[0]) if x.strip()!=\"\"]!=[] or re.findall(r'\\d+', row[0])!=[]])\n",
    "    \n",
    "\n",
    "print(sum(len_cells)/len(len_cells)) # avg length of cells\n",
    "print(round(count_num_cells/len(len_cells), 3)) # ratio of cells with numerical values\n",
    "print(round(1-count_non_alpha/len(len_cells), 3)) # ratio of cells with only alphabetical characters\n"
   ]
  },
  {
   "cell_type": "code",
   "execution_count": null,
   "id": "f775ffd3",
   "metadata": {},
   "outputs": [],
   "source": [
    "# Unzip FEVEROUS Wikipedia data\n",
    "\n",
    "with zipfile.ZipFile(\"...\", 'r') as zip_ref: \n",
    "    zip_ref.extractall(\"...\")\n",
    "    "
   ]
  },
  {
   "cell_type": "code",
   "execution_count": null,
   "id": "9bbcbdd7",
   "metadata": {},
   "outputs": [],
   "source": [
    "# feverous_dataset = []\n",
    "feverous_tables = []\n",
    "\n",
    "for filename in os.listdir(directory):\n",
    "    f = os.path.join(directory, filename)\n",
    "    print(f)\n",
    "    \n",
    "    with jsonlines.open(f) as reader:\n",
    "        for line in reader: \n",
    "            for elem in line[\"order\"]: \n",
    "                if \"table_\" in elem: \n",
    "                    feverous_tables.append(line[elem])\n",
    "                    \n",
    "#                 feverous_dataset.append(feverous_example)\n"
   ]
  },
  {
   "cell_type": "code",
   "execution_count": null,
   "id": "a16bfc0a",
   "metadata": {},
   "outputs": [],
   "source": [
    "# Number of tables with caption \n",
    "counter = 0\n",
    "\n",
    "for table in feverous_tables: \n",
    "    if \"caption\" in table.keys(): \n",
    "        counter += 1\n",
    "        \n",
    "print(f\"Number of tables with captions is {counter}.\")\n",
    "print(f\"Ratio of tables with captions is {round(counter/len(feverous_tables), 3)}.\")\n",
    "        "
   ]
  },
  {
   "cell_type": "code",
   "execution_count": null,
   "id": "c1f67037",
   "metadata": {},
   "outputs": [],
   "source": [
    "# Number of tables with header\n",
    "counter = 0\n",
    "\n",
    "for table in feverous_tables: \n",
    "    cells = [cell for row in table['table'] for cell in row]\n",
    "    for cell in cells: \n",
    "        if cell[\"is_header\"]: \n",
    "            counter += 1\n",
    "            break\n",
    "\n",
    "print(f\"Number of tables with header cells is {counter}.\")\n",
    "print(f\"Ratio of tables with header cells is {round(counter/len(feverous_tables), 3)}.\")\n",
    "        "
   ]
  },
  {
   "cell_type": "code",
   "execution_count": null,
   "id": "1d152c44",
   "metadata": {},
   "outputs": [],
   "source": [
    "# Number of tables with < 5 rows\n",
    "\n",
    "len_tables = [len(table['table']) for table in feverous_tables]\n",
    "tables_less_five = [1 for entry in len_tables if entry<5]\n",
    "\n",
    "print(f\"Number of tables with less than 5 rows is {len(tables_less_five)}.\")\n",
    "print(f\"Ratio of tables with less than 5 rows is {round(len(tables_less_five)/len(feverous_tables), 3)}.\")\n",
    "        "
   ]
  },
  {
   "cell_type": "code",
   "execution_count": null,
   "id": "81fd563f",
   "metadata": {},
   "outputs": [],
   "source": [
    "# Number of tables with >= 5 rows and =< 10 rows\n",
    "tables_between_five_ten = [1 for entry in len_tables if entry>4 and entry<11]\n",
    "\n",
    "print(f\"Number of tables with row length between 5 and 10 is {len(tables_between_five_ten)}.\")\n",
    "print(f\"Ratio of tables with row length between 5 and 10 is {round(len(tables_between_five_ten)/len(feverous_tables), 3)}.\")\n"
   ]
  },
  {
   "cell_type": "code",
   "execution_count": null,
   "id": "45b41db8",
   "metadata": {},
   "outputs": [],
   "source": [
    "# Number of tables with > 10 rows \n",
    "tables_more_ten = [1 for entry in len_tables if entry>10]\n",
    "\n",
    "print(f\"Number of tables with row length more than 10 is {len(tables_more_ten)}.\")\n",
    "print(f\"Ratio of tables with row length more than 10 is {round(len(tables_more_ten)/len(feverous_tables), 3)}.\")\n"
   ]
  },
  {
   "cell_type": "code",
   "execution_count": null,
   "id": "13cf6c84",
   "metadata": {},
   "outputs": [],
   "source": [
    "# Number of cells \n",
    "# Number of cells with only __string content__ \n",
    "# Number of cells with any __numerical content__\n",
    "\n",
    "count_num_cells = 0\n",
    "count_non_alpha = 0\n",
    "len_rows = []\n",
    "\n",
    "for table in feverous_tables: \n",
    "    len_rows.append(sum([len(row) for row in table[\"table\"]]))\n",
    "\n",
    "    count_non_alpha += len([1 for row in table['table'] for cell in row if \n",
    "                        [x for x in re.findall(r'\\W+', cell['value']) if x.strip()!=\"\"]!=[] or re.findall(r'\\d+', cell['value'])!=[]])\n",
    "\n",
    "    count_num_cells += len([1 for row in table['table'] for cell in row if re.findall(r'\\d+', cell['value'])!=[]])\n",
    "\n",
    "    \n",
    "print(sum(len_rows)) # total number of cells\n",
    "print(count_num_cells) # number of cells with numerical values\n",
    "print(count_non_alpha) # number of cells with non-alphabetical characters\n",
    "\n",
    "print(round(count_num_cells/sum(len_rows), 3)) # ratio of cells with numerical values\n",
    "print(round(1-count_non_alpha/sum(len_rows), 3)) # ratio of cells with only alphabetical characters\n"
   ]
  },
  {
   "cell_type": "code",
   "execution_count": null,
   "id": "e2ab9b76",
   "metadata": {},
   "outputs": [],
   "source": [
    "# Avg number of characters per cell \n",
    "cell_len = []\n",
    "for table in feverous_tables: \n",
    "    cell_len.extend([len(cell['value'].strip()) for row in table[\"table\"] for cell in row])\n",
    "    \n",
    "print(f\"Average cell length is {round(sum(cell_len)/len(cell_len), 3)}.\")\n"
   ]
  },
  {
   "cell_type": "code",
   "execution_count": null,
   "id": "2cf14fb5",
   "metadata": {},
   "outputs": [],
   "source": []
  },
  {
   "cell_type": "code",
   "execution_count": null,
   "id": "d3927135",
   "metadata": {},
   "outputs": [],
   "source": []
  },
  {
   "cell_type": "code",
   "execution_count": null,
   "id": "de65a6a1",
   "metadata": {},
   "outputs": [],
   "source": []
  }
 ],
 "metadata": {
  "kernelspec": {
   "display_name": "Python 3",
   "language": "python",
   "name": "python3"
  },
  "language_info": {
   "codemirror_mode": {
    "name": "ipython",
    "version": 3
   },
   "file_extension": ".py",
   "mimetype": "text/x-python",
   "name": "python",
   "nbconvert_exporter": "python",
   "pygments_lexer": "ipython3",
   "version": "3.7.10"
  }
 },
 "nbformat": 4,
 "nbformat_minor": 5
}
